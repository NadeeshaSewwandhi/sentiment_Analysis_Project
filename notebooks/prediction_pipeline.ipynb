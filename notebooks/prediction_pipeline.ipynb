{
 "cells": [
  {
   "cell_type": "code",
   "execution_count": 1,
   "id": "86762ea9-7858-43fc-85c0-1ce57bb701fe",
   "metadata": {},
   "outputs": [],
   "source": [
    "import numpy as np\n",
    "import pandas as pd\n",
    "import re\n",
    "import string\n",
    "import pickle\n",
    "from nltk.stem import PorterStemmer\n",
    "from sklearn.feature_extraction.text import TfidfVectorizer"
   ]
  },
  {
   "cell_type": "code",
   "execution_count": 2,
   "id": "fd4030ce-49b9-49bb-aca2-cbd1c739ec77",
   "metadata": {},
   "outputs": [],
   "source": [
    "ps = PorterStemmer()"
   ]
  },
  {
   "cell_type": "code",
   "execution_count": 3,
   "id": "0526b99d-f00f-4661-ba12-1bd99e51e010",
   "metadata": {},
   "outputs": [],
   "source": [
    "Txt = 'Great quality and works perfectly'"
   ]
  },
  {
   "cell_type": "code",
   "execution_count": 4,
   "id": "71ad7ac8-e37e-40f7-b7d1-e423c8deac7d",
   "metadata": {},
   "outputs": [],
   "source": [
    "def remove_punctuations(text):\n",
    "    for punctuation in string.punctuation:\n",
    "        text = text.replace(punctuation, '')\n",
    "    return text"
   ]
  },
  {
   "cell_type": "code",
   "execution_count": 5,
   "id": "922e29f5-e34f-40bf-8ba3-a319a09ced49",
   "metadata": {},
   "outputs": [],
   "source": [
    "vocab = pd.read_csv('../static/model/vocabulary.txt', header=None)\n",
    "tokens = vocab[0].tolist()"
   ]
  },
  {
   "cell_type": "code",
   "execution_count": 6,
   "id": "752dc5e1-6bf8-418f-9266-ab2c4b1edd29",
   "metadata": {},
   "outputs": [],
   "source": [
    "with open('../static/model/corpora/stopwords/english', 'r') as file:\n",
    "    sw = file.read().splitlines()"
   ]
  },
  {
   "cell_type": "code",
   "execution_count": 7,
   "id": "bcc57e49-a7fd-4813-bf65-90796c4bf1a1",
   "metadata": {},
   "outputs": [],
   "source": [
    "with open('../static/model/model.pickle', 'rb') as f:\n",
    "    model = pickle.load(f)"
   ]
  },
  {
   "cell_type": "code",
   "execution_count": 8,
   "id": "f5270fd0-3953-41db-8ef7-95b253939658",
   "metadata": {},
   "outputs": [],
   "source": [
    "with open('../static/model/vectorizer.pickle', 'rb') as f:\n",
    "    vectorizer = pickle.load(f)"
   ]
  },
  {
   "cell_type": "code",
   "execution_count": 9,
   "id": "25ea9249-17cd-40b7-8a00-1fd86d150f40",
   "metadata": {},
   "outputs": [
    {
     "name": "stderr",
     "output_type": "stream",
     "text": [
      "<>:6: SyntaxWarning: invalid escape sequence '\\d'\n",
      "<>:6: SyntaxWarning: invalid escape sequence '\\d'\n",
      "C:\\Users\\Dell User\\AppData\\Local\\Temp\\ipykernel_8836\\3905169728.py:6: SyntaxWarning: invalid escape sequence '\\d'\n",
      "  data[\"tweet\"] = data[\"tweet\"].str.replace('\\d+','',regex = True)\n"
     ]
    }
   ],
   "source": [
    "def preprocessing(text):\n",
    "    data = pd.DataFrame([text], columns = [\"tweet\"])\n",
    "    data[\"tweet\"] = data[\"tweet\"].apply(lambda x: \" \".join(x.lower() for x in x.split()))\n",
    "    data[\"tweet\"] = data[\"tweet\"].apply(lambda x: \" \".join(re.sub(r\"https?:\\/\\/.*[\\r\\n]*\", \"\", x, flags=re.MULTILINE).split()))\n",
    "    data[\"tweet\"] = data[\"tweet\"].apply(remove_punctuations)\n",
    "    data[\"tweet\"] = data[\"tweet\"].str.replace('\\d+','',regex = True)\n",
    "    data[\"tweet\"] = data[\"tweet\"].apply(lambda x: \" \".join(x for x in x.split()if x not in sw))\n",
    "    data[\"tweet\"] = data[\"tweet\"].apply(lambda x: \" \".join(ps.stem(x) for x in x.split()))\n",
    "    return data[\"tweet\"]"
   ]
  },
  {
   "cell_type": "code",
   "execution_count": 10,
   "id": "02d1ff73-f0df-48ba-8fc6-30ec2b0c2c5a",
   "metadata": {},
   "outputs": [],
   "source": [
    "preprocessed_txt = preprocessing(Txt)"
   ]
  },
  {
   "cell_type": "code",
   "execution_count": 11,
   "id": "b3d1aa44-3591-4d48-9c85-2d2a4fe60709",
   "metadata": {},
   "outputs": [
    {
     "data": {
      "text/plain": [
       "0    great qualiti work perfectli\n",
       "Name: tweet, dtype: object"
      ]
     },
     "execution_count": 11,
     "metadata": {},
     "output_type": "execute_result"
    }
   ],
   "source": [
    "preprocessed_txt "
   ]
  },
  {
   "cell_type": "code",
   "execution_count": 12,
   "id": "a10c760b-1974-4994-94be-9ecbe9f4f9ff",
   "metadata": {},
   "outputs": [],
   "source": [
    "#tokens"
   ]
  },
  {
   "cell_type": "code",
   "execution_count": 13,
   "id": "d811238a-4319-45d9-b751-da9405c6b6e5",
   "metadata": {},
   "outputs": [
    {
     "data": {
      "text/plain": [
       "<Compressed Sparse Row sparse matrix of dtype 'float64'\n",
       "\twith 4 stored elements and shape (1, 12474)>"
      ]
     },
     "execution_count": 13,
     "metadata": {},
     "output_type": "execute_result"
    }
   ],
   "source": [
    "vectorized_txt = vectorizer.transform(preprocessed_txt)\n",
    "vectorized_txt"
   ]
  },
  {
   "cell_type": "code",
   "execution_count": 15,
   "id": "4f8918a8-1841-4368-8e2c-bbe6a6ab385a",
   "metadata": {},
   "outputs": [],
   "source": [
    "def get_prediction(vectorized_text):\n",
    "    prediction = model.predict(vectorized_text)\n",
    "    if prediction == 1 :\n",
    "        return 'Negative'\n",
    "    else: \n",
    "        return 'positive'"
   ]
  },
  {
   "cell_type": "code",
   "execution_count": 16,
   "id": "2088ec2e-ed70-4234-86cd-acd2bc224641",
   "metadata": {},
   "outputs": [
    {
     "data": {
      "text/plain": [
       "'positive'"
      ]
     },
     "execution_count": 16,
     "metadata": {},
     "output_type": "execute_result"
    }
   ],
   "source": [
    "prediction = get_prediction(vectorized_txt)\n",
    "prediction"
   ]
  },
  {
   "cell_type": "code",
   "execution_count": null,
   "id": "7ee59b51-d056-40a7-a4bc-dbfda95cf238",
   "metadata": {},
   "outputs": [],
   "source": [
    "# 1 - Bad Comment \n",
    "# 0 - Good Comment"
   ]
  },
  {
   "cell_type": "code",
   "execution_count": null,
   "id": "a0a07763-2f5f-49e7-9d4c-2ed834d0bf64",
   "metadata": {},
   "outputs": [],
   "source": []
  },
  {
   "cell_type": "code",
   "execution_count": null,
   "id": "fcb86894-23dd-410a-84e3-ce03b940addc",
   "metadata": {},
   "outputs": [],
   "source": []
  },
  {
   "cell_type": "code",
   "execution_count": null,
   "id": "fa148bd0-2c64-488f-a181-bceb41cc6a8f",
   "metadata": {},
   "outputs": [],
   "source": []
  }
 ],
 "metadata": {
  "kernelspec": {
   "display_name": "Python 3 (ipykernel)",
   "language": "python",
   "name": "python3"
  },
  "language_info": {
   "codemirror_mode": {
    "name": "ipython",
    "version": 3
   },
   "file_extension": ".py",
   "mimetype": "text/x-python",
   "name": "python",
   "nbconvert_exporter": "python",
   "pygments_lexer": "ipython3",
   "version": "3.12.2"
  }
 },
 "nbformat": 4,
 "nbformat_minor": 5
}
